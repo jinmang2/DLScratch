{
 "cells": [
  {
   "cell_type": "code",
   "execution_count": 1,
   "metadata": {},
   "outputs": [],
   "source": [
    "import os\n",
    "import torch\n",
    "import pandas as pd\n",
    "import numpy as np\n",
    "import torchvision\n",
    "import torch.nn as nn\n",
    "from torch.utils.data import Dataset, random_split, DataLoader\n",
    "import matplotlib.pyplot as plt\n",
    "import torch.nn.functional as F\n",
    "import torchvision.models as models\n",
    "from PIL import Image\n",
    "# from collections import OrderedDict\n",
    "%matplotlib inline\n",
    "\n",
    "import torchvision.transforms as transforms"
   ]
  },
  {
   "cell_type": "code",
   "execution_count": 2,
   "metadata": {},
   "outputs": [],
   "source": [
    "# 계층적인 폴더 구조를 갖고 있는 데이터셋을 불러올때 사용 : 폴더 이름 = 클래스 명\n",
    "from torchvision.datasets import ImageFolder"
   ]
  },
  {
   "cell_type": "code",
   "execution_count": 3,
   "metadata": {},
   "outputs": [],
   "source": [
    "device = 'cuda' if torch.cuda.is_available() else 'cpu'\n",
    "\n",
    "torch.manual_seed(777)\n",
    "if device =='cuda':\n",
    "    torch.cuda.manual_seed_all(777)"
   ]
  },
  {
   "cell_type": "code",
   "execution_count": 4,
   "metadata": {},
   "outputs": [
    {
     "data": {
      "text/plain": [
       "'1.7.1+cu110'"
      ]
     },
     "execution_count": 4,
     "metadata": {},
     "output_type": "execute_result"
    }
   ],
   "source": [
    "torch.__version__"
   ]
  },
  {
   "cell_type": "code",
   "execution_count": 5,
   "metadata": {},
   "outputs": [],
   "source": [
    "# another\n",
    "dataset = ImageFolder('data/Images')\n",
    "\n",
    "test_pct = 0.2\n",
    "test_size = int(len(dataset)*test_pct)\n",
    "dataset_size = len(dataset) - test_size\n",
    "\n",
    "val_pct = 0.1\n",
    "val_size = int(dataset_size*val_pct)\n",
    "train_size = dataset_size - val_size\n",
    "\n",
    "train, val, test = torch.utils.data.random_split(dataset, [train_size, val_size, test_size])\n",
    "\n",
    "# custom Dataset\n",
    "class DogData(Dataset) :\n",
    "    def __init__(self, ds, transform = None) :\n",
    "        self.ds = ds\n",
    "        self.transform = transform\n",
    "    \n",
    "    def __len__(self) :\n",
    "        return len(self.ds)\n",
    "    \n",
    "    def __getitem__(self, idx) :\n",
    "        img, label = self.ds[idx]\n",
    "        if self.transform :\n",
    "            img = self.transform(img)\n",
    "            return img, label\n",
    "\n",
    "        \n",
    "train_transforms = transforms.Compose([transforms.RandomRotation(30),\n",
    "                                       transforms.RandomResizedCrop(224),\n",
    "                                       transforms.RandomHorizontalFlip(),\n",
    "                                       transforms.ToTensor(),\n",
    "                                       transforms.Normalize([0.485, 0.456, 0.406],\n",
    "                                                            [0.229, 0.224, 0.225]) \n",
    "                                      ])\n",
    "\n",
    "val_transforms = transforms.Compose([\n",
    "                                     transforms.Resize(255), \n",
    "                                     transforms.CenterCrop(224),\n",
    "                                     transforms.ToTensor(),\n",
    "                                     transforms.Normalize(mean=[0.485, 0.456, 0.406], std=[0.229, 0.224, 0.225])])\n",
    "\n",
    "test_transforms = transforms.Compose([\n",
    "                                     transforms.Resize(255), \n",
    "                                     transforms.CenterCrop(224),\n",
    "                                     transforms.ToTensor(),\n",
    "                                     transforms.Normalize(mean=[0.485, 0.456, 0.406], std=[0.229, 0.224, 0.225])])\n",
    "\n",
    "\n",
    "train = DogData(train, train_transforms)\n",
    "val = DogData(val, val_transforms)\n",
    "test = DogData(test, test_transforms)\n",
    "\n",
    "\n",
    "num_workers = 0\n",
    "batch_size = 8\n",
    "\n",
    "trainLoader = torch.utils.data.DataLoader(train, batch_size=batch_size, \n",
    "                                              num_workers=num_workers, shuffle=True)\n",
    "valLoader = torch.utils.data.DataLoader(val, batch_size=batch_size, \n",
    "                                            num_workers=num_workers, shuffle=True)\n",
    "testLoader = torch.utils.data.DataLoader(test, batch_size=batch_size,\n",
    "                                             num_workers=num_workers, shuffle=True)"
   ]
  },
  {
   "cell_type": "code",
   "execution_count": 8,
   "metadata": {},
   "outputs": [],
   "source": [
    "from torchvision.models import resnet152"
   ]
  },
  {
   "cell_type": "code",
   "execution_count": 10,
   "metadata": {},
   "outputs": [
    {
     "name": "stderr",
     "output_type": "stream",
     "text": [
      "Downloading: \"https://download.pytorch.org/models/resnet152-b121ed2d.pth\" to C:\\Users\\jinma/.cache\\torch\\hub\\checkpoints\\resnet152-b121ed2d.pth\n"
     ]
    },
    {
     "data": {
      "application/vnd.jupyter.widget-view+json": {
       "model_id": "b29d773c20834ae99a0a247f5da04f06",
       "version_major": 2,
       "version_minor": 0
      },
      "text/plain": [
       "HBox(children=(FloatProgress(value=0.0, max=241530880.0), HTML(value='')))"
      ]
     },
     "metadata": {},
     "output_type": "display_data"
    },
    {
     "name": "stdout",
     "output_type": "stream",
     "text": [
      "\n"
     ]
    }
   ],
   "source": [
    "resnet = resnet152(pretrained=True)"
   ]
  },
  {
   "cell_type": "code",
   "execution_count": 35,
   "metadata": {},
   "outputs": [],
   "source": [
    "class Resnet(nn.Module):\n",
    "    \n",
    "    def __init__(self, resnet, n_classes, freeze=True):\n",
    "        super().__init__()\n",
    "        self.resnet = resnet\n",
    "        if freeze:\n",
    "            for param in resnet.parameters():\n",
    "                param.requires_grad = False\n",
    "        n_inputs = self.resnet.fc.out_features # 1000\n",
    "        # 학습시킬 파라미터\n",
    "        self.fc1 = nn.Linear(n_inputs, 1024)\n",
    "        self.fc2 = nn.Linear(1024, n_classes)\n",
    "        \n",
    "    def forward(self, x):\n",
    "        x = self.resnet(x)\n",
    "        x = torch.relu(self.fc1(x))\n",
    "        return torch.relu(self.fc2(x))"
   ]
  },
  {
   "cell_type": "code",
   "execution_count": 36,
   "metadata": {},
   "outputs": [],
   "source": [
    "model = Resnet(resnet, 120).to(device)"
   ]
  },
  {
   "cell_type": "code",
   "execution_count": 38,
   "metadata": {},
   "outputs": [
    {
     "data": {
      "text/plain": [
       "torch.Size([1, 120])"
      ]
     },
     "execution_count": 38,
     "metadata": {},
     "output_type": "execute_result"
    }
   ],
   "source": [
    "x = torch.randn(1, 3, 240, 240) # sample example\n",
    "model(x).size()"
   ]
  },
  {
   "cell_type": "code",
   "execution_count": 40,
   "metadata": {},
   "outputs": [],
   "source": [
    "import torch.optim as optim"
   ]
  },
  {
   "cell_type": "code",
   "execution_count": 41,
   "metadata": {},
   "outputs": [],
   "source": [
    "# learning rate를 단계적으로 줄여주는 방법\n",
    "# epoch 100 -> lr/10, 150 -> lr/10\n",
    "def adjust_learning_rate(optimizer, epoch):\n",
    "    lr = learning_rate\n",
    "    if epoch >= 100:\n",
    "        lr /= 10\n",
    "    if epoch >= 150:\n",
    "        lr /= 10\n",
    "    for param_group in optimizer.param_groups:\n",
    "        param_group['lr'] = lr"
   ]
  },
  {
   "cell_type": "markdown",
   "metadata": {},
   "source": [
    "### Train & validation"
   ]
  },
  {
   "cell_type": "code",
   "execution_count": 44,
   "metadata": {
    "scrolled": false
   },
   "outputs": [],
   "source": [
    "# loss\n",
    "criterion = nn.CrossEntropyLoss()\n",
    "# backpropagation method\n",
    "learning_rate = 0.01\n",
    "optimizer = optim.SGD(model.parameters(), lr=learning_rate, momentum=0.9, weight_decay=0.0002)\n",
    "# hyper-parameters\n",
    "num_epochs = 200\n",
    "num_batches = len(trainLoader)"
   ]
  },
  {
   "cell_type": "code",
   "execution_count": null,
   "metadata": {
    "scrolled": false
   },
   "outputs": [
    {
     "data": {
      "application/vnd.jupyter.widget-view+json": {
       "model_id": "a92c514a94774a8baee0e197487c4758",
       "version_major": 2,
       "version_minor": 0
      },
      "text/plain": [
       "HBox(children=(FloatProgress(value=0.0, max=200.0), HTML(value='')))"
      ]
     },
     "metadata": {},
     "output_type": "display_data"
    },
    {
     "name": "stdout",
     "output_type": "stream",
     "text": [
      "epoch: 1/200 | step: 100/213 | trn loss: 3.1990 | val loss: 1.6741 | acc: 61.38\n",
      "epoch: 1/200 | step: 200/213 | trn loss: 2.1422 | val loss: 1.3982 | acc: 65.08\n",
      "epoch: 2/200 | step: 100/213 | trn loss: 2.1581 | val loss: 1.9505 | acc: 65.61\n",
      "epoch: 2/200 | step: 200/213 | trn loss: 2.0666 | val loss: 1.4866 | acc: 70.90\n",
      "epoch: 3/200 | step: 100/213 | trn loss: 2.0732 | val loss: 1.3472 | acc: 68.25\n",
      "epoch: 3/200 | step: 200/213 | trn loss: 2.1986 | val loss: 0.9562 | acc: 75.13\n",
      "epoch: 4/200 | step: 100/213 | trn loss: 2.0971 | val loss: 0.7951 | acc: 83.07\n",
      "epoch: 4/200 | step: 200/213 | trn loss: 2.3621 | val loss: 1.2746 | acc: 76.19\n",
      "epoch: 5/200 | step: 100/213 | trn loss: 1.9314 | val loss: 1.5200 | acc: 71.96\n",
      "epoch: 5/200 | step: 200/213 | trn loss: 2.1156 | val loss: 1.9289 | acc: 69.84\n",
      "epoch: 6/200 | step: 100/213 | trn loss: 2.2584 | val loss: 1.2693 | acc: 79.37\n",
      "epoch: 6/200 | step: 200/213 | trn loss: 2.3773 | val loss: 1.7757 | acc: 67.72\n",
      "epoch: 7/200 | step: 100/213 | trn loss: 2.3403 | val loss: 0.9364 | acc: 77.78\n",
      "epoch: 7/200 | step: 200/213 | trn loss: 2.1000 | val loss: 0.9960 | acc: 80.42\n",
      "epoch: 8/200 | step: 100/213 | trn loss: 1.8294 | val loss: 1.2276 | acc: 80.42\n",
      "epoch: 8/200 | step: 200/213 | trn loss: 2.1711 | val loss: 0.9096 | acc: 79.89\n",
      "epoch: 9/200 | step: 100/213 | trn loss: 2.1915 | val loss: 1.3274 | acc: 81.48\n",
      "epoch: 9/200 | step: 200/213 | trn loss: 2.5509 | val loss: 1.3241 | acc: 74.07\n",
      "epoch: 10/200 | step: 100/213 | trn loss: 2.0482 | val loss: 1.1080 | acc: 77.25\n",
      "epoch: 10/200 | step: 200/213 | trn loss: 1.9120 | val loss: 1.3445 | acc: 77.78\n",
      "epoch: 11/200 | step: 100/213 | trn loss: 2.3142 | val loss: 1.2419 | acc: 77.25\n",
      "epoch: 11/200 | step: 200/213 | trn loss: 1.9100 | val loss: 1.9831 | acc: 73.02\n",
      "epoch: 12/200 | step: 100/213 | trn loss: 1.9605 | val loss: 0.9001 | acc: 81.48\n",
      "epoch: 12/200 | step: 200/213 | trn loss: 2.0796 | val loss: 1.1436 | acc: 78.31\n",
      "epoch: 13/200 | step: 100/213 | trn loss: 2.1240 | val loss: 1.4162 | acc: 75.66\n",
      "epoch: 13/200 | step: 200/213 | trn loss: 2.2893 | val loss: 1.9912 | acc: 74.60\n",
      "epoch: 14/200 | step: 100/213 | trn loss: 1.9530 | val loss: 1.1021 | acc: 82.54\n",
      "epoch: 14/200 | step: 200/213 | trn loss: 1.9569 | val loss: 1.3980 | acc: 76.19\n",
      "epoch: 15/200 | step: 100/213 | trn loss: 1.8214 | val loss: 1.6135 | acc: 78.31\n",
      "epoch: 15/200 | step: 200/213 | trn loss: 2.2497 | val loss: 1.2650 | acc: 81.48\n",
      "epoch: 16/200 | step: 100/213 | trn loss: 2.1054 | val loss: 1.4348 | acc: 78.31\n",
      "epoch: 16/200 | step: 200/213 | trn loss: 2.0046 | val loss: 1.0469 | acc: 83.60\n",
      "epoch: 17/200 | step: 100/213 | trn loss: 2.2987 | val loss: 1.3072 | acc: 75.66\n",
      "epoch: 17/200 | step: 200/213 | trn loss: 2.0346 | val loss: 1.4620 | acc: 77.25\n",
      "epoch: 18/200 | step: 100/213 | trn loss: 1.7924 | val loss: 2.1499 | acc: 69.84\n",
      "epoch: 18/200 | step: 200/213 | trn loss: 2.0243 | val loss: 1.0330 | acc: 82.01\n",
      "epoch: 19/200 | step: 100/213 | trn loss: 2.0742 | val loss: 1.7628 | acc: 70.37\n",
      "epoch: 19/200 | step: 200/213 | trn loss: 1.9083 | val loss: 0.9522 | acc: 79.37\n",
      "epoch: 20/200 | step: 100/213 | trn loss: 2.1113 | val loss: 0.8539 | acc: 83.60\n",
      "epoch: 20/200 | step: 200/213 | trn loss: 2.0227 | val loss: 1.1515 | acc: 78.84\n",
      "epoch: 21/200 | step: 100/213 | trn loss: 1.8438 | val loss: 0.9754 | acc: 80.95\n",
      "epoch: 21/200 | step: 200/213 | trn loss: 1.9711 | val loss: 0.9489 | acc: 83.60\n",
      "epoch: 22/200 | step: 100/213 | trn loss: 1.8813 | val loss: 1.2662 | acc: 80.42\n",
      "epoch: 22/200 | step: 200/213 | trn loss: 2.0057 | val loss: 1.8393 | acc: 75.66\n",
      "epoch: 23/200 | step: 100/213 | trn loss: 1.8902 | val loss: 1.2007 | acc: 80.42\n",
      "epoch: 23/200 | step: 200/213 | trn loss: 1.8682 | val loss: 1.4937 | acc: 74.60\n",
      "epoch: 24/200 | step: 100/213 | trn loss: 1.7122 | val loss: 1.1676 | acc: 78.84\n",
      "epoch: 24/200 | step: 200/213 | trn loss: 1.6951 | val loss: 1.2606 | acc: 79.89\n",
      "epoch: 25/200 | step: 100/213 | trn loss: 1.8629 | val loss: 1.2106 | acc: 78.84\n",
      "epoch: 25/200 | step: 200/213 | trn loss: 1.9103 | val loss: 1.2902 | acc: 79.37\n",
      "epoch: 26/200 | step: 100/213 | trn loss: 1.9299 | val loss: 0.9975 | acc: 83.60\n",
      "epoch: 26/200 | step: 200/213 | trn loss: 1.7381 | val loss: 1.1251 | acc: 83.60\n",
      "epoch: 27/200 | step: 100/213 | trn loss: 2.1874 | val loss: 1.1802 | acc: 78.31\n",
      "epoch: 27/200 | step: 200/213 | trn loss: 1.8122 | val loss: 1.1475 | acc: 80.95\n",
      "epoch: 28/200 | step: 100/213 | trn loss: 1.8588 | val loss: 1.4833 | acc: 74.60\n",
      "epoch: 28/200 | step: 200/213 | trn loss: 1.7725 | val loss: 0.8941 | acc: 82.54\n",
      "epoch: 29/200 | step: 100/213 | trn loss: 1.8520 | val loss: 0.9321 | acc: 79.89\n",
      "epoch: 29/200 | step: 200/213 | trn loss: 2.1523 | val loss: 1.0254 | acc: 83.07\n",
      "epoch: 30/200 | step: 100/213 | trn loss: 1.9121 | val loss: 1.0685 | acc: 83.07\n",
      "epoch: 30/200 | step: 200/213 | trn loss: 1.8106 | val loss: 1.0768 | acc: 81.48\n",
      "epoch: 31/200 | step: 100/213 | trn loss: 1.9327 | val loss: 1.4354 | acc: 71.43\n",
      "epoch: 31/200 | step: 200/213 | trn loss: 1.8938 | val loss: 0.8559 | acc: 84.13\n",
      "epoch: 32/200 | step: 100/213 | trn loss: 1.8917 | val loss: 1.1676 | acc: 80.42\n",
      "epoch: 32/200 | step: 200/213 | trn loss: 1.9631 | val loss: 1.1114 | acc: 76.72\n",
      "epoch: 33/200 | step: 100/213 | trn loss: 1.8560 | val loss: 0.8026 | acc: 80.95\n",
      "epoch: 33/200 | step: 200/213 | trn loss: 1.8275 | val loss: 1.2374 | acc: 79.89\n",
      "epoch: 34/200 | step: 100/213 | trn loss: 1.8301 | val loss: 1.5313 | acc: 78.31\n",
      "epoch: 34/200 | step: 200/213 | trn loss: 1.9006 | val loss: 1.1729 | acc: 84.66\n",
      "epoch: 35/200 | step: 100/213 | trn loss: 1.7688 | val loss: 0.7406 | acc: 81.48\n",
      "epoch: 35/200 | step: 200/213 | trn loss: 1.5856 | val loss: 1.1337 | acc: 82.01\n",
      "epoch: 36/200 | step: 100/213 | trn loss: 1.7089 | val loss: 1.1826 | acc: 79.37\n",
      "epoch: 36/200 | step: 200/213 | trn loss: 1.7259 | val loss: 1.4466 | acc: 76.72\n",
      "epoch: 37/200 | step: 100/213 | trn loss: 1.7045 | val loss: 1.0466 | acc: 81.48\n",
      "epoch: 37/200 | step: 200/213 | trn loss: 1.7266 | val loss: 1.3636 | acc: 80.42\n",
      "epoch: 38/200 | step: 100/213 | trn loss: 1.9921 | val loss: 0.8612 | acc: 85.19\n",
      "epoch: 38/200 | step: 200/213 | trn loss: 1.6391 | val loss: 1.5008 | acc: 77.78\n",
      "epoch: 39/200 | step: 100/213 | trn loss: 1.6085 | val loss: 1.0307 | acc: 83.60\n",
      "epoch: 39/200 | step: 200/213 | trn loss: 1.8000 | val loss: 0.9944 | acc: 82.54\n",
      "epoch: 40/200 | step: 100/213 | trn loss: 1.7697 | val loss: 1.1776 | acc: 79.89\n",
      "epoch: 40/200 | step: 200/213 | trn loss: 1.7800 | val loss: 0.8886 | acc: 84.13\n",
      "epoch: 41/200 | step: 100/213 | trn loss: 1.8106 | val loss: 1.3961 | acc: 77.78\n",
      "epoch: 41/200 | step: 200/213 | trn loss: 1.9495 | val loss: 1.1857 | acc: 83.07\n",
      "epoch: 42/200 | step: 100/213 | trn loss: 1.8028 | val loss: 1.2240 | acc: 79.89\n",
      "epoch: 42/200 | step: 200/213 | trn loss: 1.5373 | val loss: 1.0007 | acc: 81.48\n",
      "epoch: 43/200 | step: 100/213 | trn loss: 2.0589 | val loss: 1.0451 | acc: 84.66\n",
      "epoch: 43/200 | step: 200/213 | trn loss: 1.6178 | val loss: 1.1923 | acc: 81.48\n",
      "epoch: 44/200 | step: 100/213 | trn loss: 1.7548 | val loss: 1.2138 | acc: 78.31\n",
      "epoch: 44/200 | step: 200/213 | trn loss: 1.7756 | val loss: 1.4480 | acc: 78.84\n",
      "epoch: 45/200 | step: 100/213 | trn loss: 1.8122 | val loss: 0.7689 | acc: 86.24\n",
      "epoch: 45/200 | step: 200/213 | trn loss: 1.5619 | val loss: 1.3325 | acc: 80.42\n",
      "epoch: 46/200 | step: 100/213 | trn loss: 1.8365 | val loss: 1.7572 | acc: 75.66\n",
      "epoch: 46/200 | step: 200/213 | trn loss: 1.7716 | val loss: 1.2464 | acc: 79.37\n",
      "epoch: 47/200 | step: 100/213 | trn loss: 1.5682 | val loss: 1.0308 | acc: 83.60\n",
      "epoch: 47/200 | step: 200/213 | trn loss: 1.6698 | val loss: 0.7037 | acc: 85.19\n",
      "epoch: 48/200 | step: 100/213 | trn loss: 1.7590 | val loss: 1.1411 | acc: 76.72\n",
      "epoch: 48/200 | step: 200/213 | trn loss: 1.5768 | val loss: 1.1410 | acc: 79.89\n",
      "epoch: 49/200 | step: 100/213 | trn loss: 1.6633 | val loss: 0.9289 | acc: 80.95\n",
      "epoch: 49/200 | step: 200/213 | trn loss: 2.0024 | val loss: 1.2485 | acc: 79.89\n",
      "epoch: 50/200 | step: 100/213 | trn loss: 1.8130 | val loss: 1.1335 | acc: 80.42\n",
      "epoch: 50/200 | step: 200/213 | trn loss: 1.5938 | val loss: 0.9297 | acc: 79.89\n",
      "epoch: 51/200 | step: 100/213 | trn loss: 1.5797 | val loss: 0.6582 | acc: 86.24\n",
      "epoch: 51/200 | step: 200/213 | trn loss: 1.7730 | val loss: 1.2298 | acc: 80.95\n"
     ]
    },
    {
     "name": "stdout",
     "output_type": "stream",
     "text": [
      "epoch: 52/200 | step: 100/213 | trn loss: 1.7494 | val loss: 0.9570 | acc: 80.42\n",
      "epoch: 52/200 | step: 200/213 | trn loss: 1.5801 | val loss: 0.9750 | acc: 84.13\n",
      "epoch: 53/200 | step: 100/213 | trn loss: 1.9504 | val loss: 1.4693 | acc: 78.31\n",
      "epoch: 53/200 | step: 200/213 | trn loss: 1.6748 | val loss: 0.8334 | acc: 85.71\n",
      "epoch: 54/200 | step: 100/213 | trn loss: 1.4421 | val loss: 1.2895 | acc: 76.19\n",
      "epoch: 54/200 | step: 200/213 | trn loss: 1.7418 | val loss: 1.0207 | acc: 83.07\n",
      "epoch: 55/200 | step: 100/213 | trn loss: 1.5274 | val loss: 1.1508 | acc: 81.48\n",
      "epoch: 55/200 | step: 200/213 | trn loss: 1.8337 | val loss: 1.2878 | acc: 78.84\n",
      "epoch: 56/200 | step: 100/213 | trn loss: 1.6667 | val loss: 1.1789 | acc: 82.01\n",
      "epoch: 56/200 | step: 200/213 | trn loss: 1.6767 | val loss: 1.1211 | acc: 83.07\n",
      "epoch: 57/200 | step: 100/213 | trn loss: 1.6642 | val loss: 0.8923 | acc: 80.42\n",
      "epoch: 57/200 | step: 200/213 | trn loss: 1.7361 | val loss: 0.7928 | acc: 84.13\n",
      "epoch: 58/200 | step: 100/213 | trn loss: 1.6496 | val loss: 0.9243 | acc: 80.95\n",
      "epoch: 58/200 | step: 200/213 | trn loss: 1.8640 | val loss: 1.0867 | acc: 81.48\n",
      "epoch: 59/200 | step: 100/213 | trn loss: 1.5610 | val loss: 1.5519 | acc: 79.37\n",
      "epoch: 59/200 | step: 200/213 | trn loss: 1.7866 | val loss: 1.2301 | acc: 80.95\n",
      "epoch: 60/200 | step: 100/213 | trn loss: 1.7004 | val loss: 0.9732 | acc: 82.01\n",
      "epoch: 60/200 | step: 200/213 | trn loss: 1.6445 | val loss: 0.8629 | acc: 83.07\n",
      "epoch: 61/200 | step: 100/213 | trn loss: 1.6846 | val loss: 1.0045 | acc: 79.89\n",
      "epoch: 61/200 | step: 200/213 | trn loss: 1.5814 | val loss: 0.8744 | acc: 79.89\n",
      "epoch: 62/200 | step: 100/213 | trn loss: 1.6025 | val loss: 0.8389 | acc: 80.42\n",
      "epoch: 62/200 | step: 200/213 | trn loss: 1.7620 | val loss: 0.7903 | acc: 84.13\n",
      "epoch: 63/200 | step: 100/213 | trn loss: 1.3661 | val loss: 0.7700 | acc: 84.13\n",
      "epoch: 63/200 | step: 200/213 | trn loss: 1.5532 | val loss: 0.7799 | acc: 84.66\n",
      "epoch: 64/200 | step: 100/213 | trn loss: 1.6513 | val loss: 1.5193 | acc: 74.07\n",
      "epoch: 64/200 | step: 200/213 | trn loss: 1.5784 | val loss: 0.9947 | acc: 82.54\n",
      "epoch: 65/200 | step: 100/213 | trn loss: 1.4582 | val loss: 1.2435 | acc: 78.31\n",
      "epoch: 65/200 | step: 200/213 | trn loss: 1.8441 | val loss: 0.8012 | acc: 85.19\n",
      "epoch: 66/200 | step: 100/213 | trn loss: 1.6343 | val loss: 0.7143 | acc: 83.60\n",
      "epoch: 66/200 | step: 200/213 | trn loss: 1.7080 | val loss: 0.9484 | acc: 83.07\n",
      "epoch: 67/200 | step: 100/213 | trn loss: 1.7219 | val loss: 0.8466 | acc: 84.13\n",
      "epoch: 67/200 | step: 200/213 | trn loss: 1.5843 | val loss: 1.5230 | acc: 82.01\n",
      "epoch: 68/200 | step: 100/213 | trn loss: 1.5422 | val loss: 1.0002 | acc: 84.13\n",
      "epoch: 68/200 | step: 200/213 | trn loss: 1.7873 | val loss: 0.7751 | acc: 83.60\n",
      "epoch: 69/200 | step: 100/213 | trn loss: 1.4792 | val loss: 1.5053 | acc: 82.01\n",
      "epoch: 69/200 | step: 200/213 | trn loss: 1.5271 | val loss: 1.2659 | acc: 79.37\n",
      "epoch: 70/200 | step: 100/213 | trn loss: 1.5059 | val loss: 0.9547 | acc: 80.95\n",
      "epoch: 70/200 | step: 200/213 | trn loss: 1.7969 | val loss: 0.9333 | acc: 81.48\n",
      "epoch: 71/200 | step: 100/213 | trn loss: 1.4569 | val loss: 0.7034 | acc: 84.66\n",
      "epoch: 71/200 | step: 200/213 | trn loss: 1.5869 | val loss: 0.7318 | acc: 85.71\n",
      "epoch: 72/200 | step: 100/213 | trn loss: 1.5277 | val loss: 1.2391 | acc: 84.13\n",
      "epoch: 72/200 | step: 200/213 | trn loss: 1.5473 | val loss: 1.1707 | acc: 81.48\n",
      "epoch: 73/200 | step: 100/213 | trn loss: 1.5906 | val loss: 0.9759 | acc: 84.13\n",
      "epoch: 73/200 | step: 200/213 | trn loss: 1.7924 | val loss: 1.1049 | acc: 80.42\n",
      "epoch: 74/200 | step: 100/213 | trn loss: 1.6211 | val loss: 1.3511 | acc: 83.07\n",
      "epoch: 74/200 | step: 200/213 | trn loss: 1.6211 | val loss: 1.0082 | acc: 81.48\n",
      "epoch: 75/200 | step: 100/213 | trn loss: 1.3255 | val loss: 1.4661 | acc: 79.37\n",
      "epoch: 75/200 | step: 200/213 | trn loss: 1.8251 | val loss: 1.0509 | acc: 82.54\n",
      "epoch: 76/200 | step: 100/213 | trn loss: 1.6227 | val loss: 0.9726 | acc: 82.01\n",
      "epoch: 76/200 | step: 200/213 | trn loss: 1.8081 | val loss: 0.7324 | acc: 84.13\n",
      "epoch: 77/200 | step: 100/213 | trn loss: 1.7077 | val loss: 0.8669 | acc: 83.60\n",
      "epoch: 77/200 | step: 200/213 | trn loss: 1.6538 | val loss: 1.0298 | acc: 83.60\n",
      "epoch: 78/200 | step: 100/213 | trn loss: 1.6102 | val loss: 0.5961 | acc: 89.42\n",
      "epoch: 78/200 | step: 200/213 | trn loss: 1.5540 | val loss: 0.7234 | acc: 85.71\n",
      "epoch: 79/200 | step: 100/213 | trn loss: 1.6951 | val loss: 0.9378 | acc: 82.54\n",
      "epoch: 79/200 | step: 200/213 | trn loss: 1.5718 | val loss: 0.7695 | acc: 83.60\n",
      "epoch: 80/200 | step: 100/213 | trn loss: 1.4553 | val loss: 0.7925 | acc: 82.54\n",
      "epoch: 80/200 | step: 200/213 | trn loss: 1.5875 | val loss: 0.7523 | acc: 86.24\n",
      "epoch: 81/200 | step: 100/213 | trn loss: 1.3931 | val loss: 0.9684 | acc: 83.60\n",
      "epoch: 81/200 | step: 200/213 | trn loss: 1.8396 | val loss: 1.1941 | acc: 85.71\n",
      "epoch: 82/200 | step: 100/213 | trn loss: 1.4363 | val loss: 0.8104 | acc: 84.66\n",
      "epoch: 82/200 | step: 200/213 | trn loss: 1.4173 | val loss: 0.6421 | acc: 85.19\n",
      "epoch: 83/200 | step: 100/213 | trn loss: 1.3104 | val loss: 1.0716 | acc: 82.54\n",
      "epoch: 83/200 | step: 200/213 | trn loss: 1.2646 | val loss: 0.8248 | acc: 85.71\n",
      "epoch: 84/200 | step: 100/213 | trn loss: 1.7874 | val loss: 1.0285 | acc: 84.66\n",
      "epoch: 84/200 | step: 200/213 | trn loss: 1.6482 | val loss: 0.6230 | acc: 86.24\n",
      "epoch: 85/200 | step: 100/213 | trn loss: 1.7538 | val loss: 0.8343 | acc: 85.19\n",
      "epoch: 85/200 | step: 200/213 | trn loss: 1.5936 | val loss: 1.1666 | acc: 79.89\n",
      "epoch: 86/200 | step: 100/213 | trn loss: 1.2667 | val loss: 0.5959 | acc: 84.66\n",
      "epoch: 86/200 | step: 200/213 | trn loss: 1.7939 | val loss: 1.0262 | acc: 82.01\n",
      "epoch: 87/200 | step: 100/213 | trn loss: 1.5958 | val loss: 0.9674 | acc: 82.01\n",
      "epoch: 87/200 | step: 200/213 | trn loss: 1.6418 | val loss: 1.3829 | acc: 83.07\n",
      "epoch: 88/200 | step: 100/213 | trn loss: 1.7874 | val loss: 1.1381 | acc: 82.01\n",
      "epoch: 88/200 | step: 200/213 | trn loss: 1.6214 | val loss: 0.9410 | acc: 82.01\n",
      "epoch: 89/200 | step: 100/213 | trn loss: 1.6620 | val loss: 1.5690 | acc: 80.42\n",
      "epoch: 89/200 | step: 200/213 | trn loss: 1.4239 | val loss: 0.8851 | acc: 84.66\n",
      "epoch: 90/200 | step: 100/213 | trn loss: 1.6056 | val loss: 1.1290 | acc: 81.48\n",
      "epoch: 90/200 | step: 200/213 | trn loss: 1.5405 | val loss: 0.8320 | acc: 85.19\n",
      "epoch: 91/200 | step: 100/213 | trn loss: 1.4154 | val loss: 0.9421 | acc: 85.71\n",
      "epoch: 91/200 | step: 200/213 | trn loss: 1.4452 | val loss: 1.1347 | acc: 82.01\n",
      "epoch: 92/200 | step: 100/213 | trn loss: 1.6815 | val loss: 0.8170 | acc: 84.66\n",
      "epoch: 92/200 | step: 200/213 | trn loss: 1.4397 | val loss: 0.8338 | acc: 87.30\n",
      "epoch: 93/200 | step: 100/213 | trn loss: 1.4484 | val loss: 1.1010 | acc: 84.66\n",
      "epoch: 93/200 | step: 200/213 | trn loss: 1.5221 | val loss: 0.7815 | acc: 84.13\n",
      "epoch: 94/200 | step: 100/213 | trn loss: 1.5619 | val loss: 1.1662 | acc: 82.54\n",
      "epoch: 94/200 | step: 200/213 | trn loss: 1.3419 | val loss: 0.8621 | acc: 84.13\n",
      "epoch: 95/200 | step: 100/213 | trn loss: 1.4822 | val loss: 1.1488 | acc: 79.89\n",
      "epoch: 95/200 | step: 200/213 | trn loss: 1.5964 | val loss: 0.9465 | acc: 84.66\n",
      "epoch: 96/200 | step: 100/213 | trn loss: 1.4908 | val loss: 0.9473 | acc: 83.60\n",
      "epoch: 96/200 | step: 200/213 | trn loss: 1.7051 | val loss: 1.3729 | acc: 76.72\n",
      "epoch: 97/200 | step: 100/213 | trn loss: 1.3723 | val loss: 0.7352 | acc: 86.24\n",
      "epoch: 97/200 | step: 200/213 | trn loss: 1.7367 | val loss: 0.7657 | acc: 85.19\n",
      "epoch: 98/200 | step: 100/213 | trn loss: 1.6879 | val loss: 0.7277 | acc: 86.77\n",
      "epoch: 98/200 | step: 200/213 | trn loss: 1.5642 | val loss: 0.9204 | acc: 82.54\n",
      "epoch: 99/200 | step: 100/213 | trn loss: 1.5433 | val loss: 1.2716 | acc: 78.84\n",
      "epoch: 99/200 | step: 200/213 | trn loss: 1.5195 | val loss: 1.2841 | acc: 82.01\n",
      "epoch: 100/200 | step: 100/213 | trn loss: 1.7049 | val loss: 1.1491 | acc: 81.48\n",
      "epoch: 100/200 | step: 200/213 | trn loss: 1.3740 | val loss: 0.9638 | acc: 84.13\n",
      "epoch: 101/200 | step: 100/213 | trn loss: 1.3224 | val loss: 0.6766 | acc: 86.77\n",
      "epoch: 101/200 | step: 200/213 | trn loss: 1.1617 | val loss: 0.6377 | acc: 87.30\n",
      "epoch: 102/200 | step: 100/213 | trn loss: 1.1603 | val loss: 0.6251 | acc: 87.83\n",
      "epoch: 102/200 | step: 200/213 | trn loss: 1.1856 | val loss: 0.7495 | acc: 85.19\n"
     ]
    },
    {
     "name": "stdout",
     "output_type": "stream",
     "text": [
      "epoch: 103/200 | step: 100/213 | trn loss: 1.0687 | val loss: 0.5015 | acc: 87.83\n",
      "epoch: 103/200 | step: 200/213 | trn loss: 1.1454 | val loss: 0.4980 | acc: 89.42\n",
      "epoch: 104/200 | step: 100/213 | trn loss: 1.1706 | val loss: 0.7431 | acc: 84.13\n",
      "epoch: 104/200 | step: 200/213 | trn loss: 1.1140 | val loss: 0.7893 | acc: 80.95\n",
      "epoch: 105/200 | step: 100/213 | trn loss: 1.1648 | val loss: 0.7651 | acc: 83.07\n",
      "epoch: 105/200 | step: 200/213 | trn loss: 1.0292 | val loss: 0.7609 | acc: 83.60\n",
      "epoch: 106/200 | step: 100/213 | trn loss: 1.1740 | val loss: 0.5078 | acc: 88.89\n",
      "epoch: 106/200 | step: 200/213 | trn loss: 1.1281 | val loss: 0.5436 | acc: 87.83\n",
      "epoch: 107/200 | step: 100/213 | trn loss: 1.1011 | val loss: 0.5454 | acc: 89.95\n",
      "epoch: 107/200 | step: 200/213 | trn loss: 1.0723 | val loss: 0.5693 | acc: 88.36\n",
      "epoch: 108/200 | step: 100/213 | trn loss: 1.0718 | val loss: 0.5321 | acc: 86.24\n",
      "epoch: 108/200 | step: 200/213 | trn loss: 1.0150 | val loss: 0.5115 | acc: 87.83\n",
      "epoch: 109/200 | step: 100/213 | trn loss: 1.0891 | val loss: 0.4995 | acc: 86.77\n",
      "epoch: 109/200 | step: 200/213 | trn loss: 1.0672 | val loss: 0.4592 | acc: 89.42\n",
      "epoch: 110/200 | step: 100/213 | trn loss: 1.0199 | val loss: 0.4081 | acc: 91.53\n",
      "epoch: 110/200 | step: 200/213 | trn loss: 1.0709 | val loss: 0.5328 | acc: 86.77\n",
      "epoch: 111/200 | step: 100/213 | trn loss: 1.0317 | val loss: 0.6834 | acc: 84.13\n",
      "epoch: 111/200 | step: 200/213 | trn loss: 0.8818 | val loss: 0.4319 | acc: 88.89\n",
      "epoch: 112/200 | step: 100/213 | trn loss: 0.9104 | val loss: 0.5217 | acc: 89.95\n",
      "epoch: 112/200 | step: 200/213 | trn loss: 0.8768 | val loss: 0.6648 | acc: 88.36\n",
      "epoch: 113/200 | step: 100/213 | trn loss: 0.9272 | val loss: 0.5289 | acc: 89.42\n",
      "epoch: 113/200 | step: 200/213 | trn loss: 0.9029 | val loss: 0.5308 | acc: 87.83\n",
      "epoch: 114/200 | step: 100/213 | trn loss: 0.9566 | val loss: 0.5112 | acc: 87.83\n",
      "epoch: 114/200 | step: 200/213 | trn loss: 0.7932 | val loss: 0.3426 | acc: 91.01\n",
      "epoch: 115/200 | step: 100/213 | trn loss: 0.9668 | val loss: 0.7033 | acc: 86.24\n",
      "epoch: 115/200 | step: 200/213 | trn loss: 1.0269 | val loss: 0.5496 | acc: 89.42\n",
      "epoch: 116/200 | step: 100/213 | trn loss: 0.8769 | val loss: 0.4970 | acc: 89.95\n",
      "epoch: 116/200 | step: 200/213 | trn loss: 0.9054 | val loss: 0.6591 | acc: 87.83\n",
      "epoch: 117/200 | step: 100/213 | trn loss: 0.8382 | val loss: 0.3920 | acc: 90.48\n",
      "epoch: 117/200 | step: 200/213 | trn loss: 0.8926 | val loss: 0.4708 | acc: 87.83\n",
      "epoch: 118/200 | step: 100/213 | trn loss: 0.8907 | val loss: 0.4162 | acc: 86.77\n",
      "epoch: 118/200 | step: 200/213 | trn loss: 0.9552 | val loss: 0.4578 | acc: 89.42\n",
      "epoch: 119/200 | step: 100/213 | trn loss: 0.8358 | val loss: 0.4547 | acc: 88.89\n",
      "epoch: 119/200 | step: 200/213 | trn loss: 0.9009 | val loss: 0.3178 | acc: 90.48\n",
      "epoch: 120/200 | step: 100/213 | trn loss: 1.0785 | val loss: 0.4897 | acc: 87.83\n",
      "epoch: 120/200 | step: 200/213 | trn loss: 0.8922 | val loss: 0.5810 | acc: 89.42\n",
      "epoch: 121/200 | step: 100/213 | trn loss: 0.9225 | val loss: 0.2681 | acc: 90.48\n",
      "epoch: 121/200 | step: 200/213 | trn loss: 0.8119 | val loss: 0.4561 | acc: 90.48\n",
      "epoch: 122/200 | step: 100/213 | trn loss: 0.8330 | val loss: 0.3876 | acc: 88.89\n",
      "epoch: 122/200 | step: 200/213 | trn loss: 0.8483 | val loss: 0.3051 | acc: 93.12\n",
      "epoch: 123/200 | step: 100/213 | trn loss: 0.8314 | val loss: 0.2612 | acc: 90.48\n"
     ]
    }
   ],
   "source": [
    "trn_loss_list = []\n",
    "val_loss_list = []\n",
    "for epoch in tqdm(range(num_epochs)):\n",
    "    adjust_learning_rate(optimizer,epoch)\n",
    "    trn_loss = 0.0\n",
    "    for i, data in enumerate(trainLoader):\n",
    "        x, label = data[0].to(device), data[1].to(device)\n",
    "        optimizer.zero_grad()\n",
    "        model_output = model(x)\n",
    "        loss = criterion(model_output, label)\n",
    "        loss.backward()\n",
    "        optimizer.step()\n",
    "        \n",
    "        trn_loss += loss.item()\n",
    "        \n",
    "        if (i+1) % 100 == 0: # every 100 mini-batches\n",
    "            with torch.no_grad(): # very very very very important!!!\n",
    "                val_loss = 0.0\n",
    "                corr_num = 0\n",
    "                total_num = 0\n",
    "                for j, val in enumerate(valLoader):\n",
    "                    val_x, val_label = val[0].to(device), val[1].to(device)\n",
    "                    val_output = model(val_x)\n",
    "                    v_loss = criterion(val_output, val_label)\n",
    "                    val_loss += v_loss\n",
    "                    \n",
    "                    model_label = val_output.argmax(dim=1)\n",
    "                    corr = val_label[val_label == model_label].size(0)\n",
    "                    corr_num += corr\n",
    "                    total_num += val_label.size(0)\n",
    "            \n",
    "            print(\"epoch: {}/{} | step: {}/{} | trn loss: {:.4f} | val loss: {:.4f} | acc: {:.2f}\".format(\n",
    "                epoch+1, num_epochs, i+1, num_batches, trn_loss / 100, val_loss / len(valLoader), (corr_num / total_num) * 100\n",
    "            ))            \n",
    "            \n",
    "            trn_loss_list.append(trn_loss/100)\n",
    "            val_loss_list.append(val_loss/len(valLoader))\n",
    "            trn_loss = 0.0\n",
    "\n",
    "print(\"training finished!\")"
   ]
  },
  {
   "cell_type": "code",
   "execution_count": null,
   "metadata": {},
   "outputs": [],
   "source": [
    "# save\n",
    "PATH = \"./vgg19.pt\"\n",
    "torch.save(vgg16.state_dict(), PATH)\n",
    "\n",
    "print(\"model saved!\")"
   ]
  },
  {
   "cell_type": "code",
   "execution_count": 19,
   "metadata": {},
   "outputs": [
    {
     "name": "stdout",
     "output_type": "stream",
     "text": [
      "test_acc: 66.84\n"
     ]
    }
   ],
   "source": [
    "# test acc\n",
    "with torch.no_grad():\n",
    "    corr_num = 0\n",
    "    total_num = 0\n",
    "    for j, val in enumerate(testLoader):\n",
    "        val_x, val_label = val\n",
    "        val_x = val_x.to(device)\n",
    "        val_label =val_label.to(device)\n",
    "        val_output = vgg16(val_x)\n",
    "        model_label = val_output.argmax(dim=1)\n",
    "        corr = val_label[val_label == model_label].size(0)\n",
    "        corr_num += corr\n",
    "        total_num += val_label.size(0)\n",
    "\n",
    "print(\"test_acc: {:.2f}\".format(corr_num / total_num * 100))"
   ]
  },
  {
   "cell_type": "code",
   "execution_count": 31,
   "metadata": {
    "scrolled": false
   },
   "outputs": [
    {
     "data": {
      "image/png": "[encoded data removed]",
      "text/plain": [
       "<Figure size 1080x720 with 1 Axes>"
      ]
     },
     "metadata": {
      "needs_background": "light"
     },
     "output_type": "display_data"
    }
   ],
   "source": [
    "plt.figure(figsize = (15,10))\n",
    "plt.plot(trn_loss_list, label=\"train_loss\")\n",
    "plt.legend()\n",
    "plt.grid('on')\n",
    "plt.show()"
   ]
  },
  {
   "cell_type": "code",
   "execution_count": null,
   "metadata": {},
   "outputs": [],
   "source": []
  }
 ],
 "metadata": {
  "kernelspec": {
   "display_name": "basic",
   "language": "python",
   "name": "basic"
  },
  "language_info": {
   "codemirror_mode": {
    "name": "ipython",
    "version": 3
   },
   "file_extension": ".py",
   "mimetype": "text/x-python",
   "name": "python",
   "nbconvert_exporter": "python",
   "pygments_lexer": "ipython3",
   "version": "3.6.9"
  }
 },
 "nbformat": 4,
 "nbformat_minor": 4
}
