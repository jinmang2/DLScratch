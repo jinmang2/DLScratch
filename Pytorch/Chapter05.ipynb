{
 "cells": [
  {
   "cell_type": "code",
   "execution_count": 1,
   "metadata": {},
   "outputs": [],
   "source": [
    "import torch\n",
    "import torch.nn as nn"
   ]
  },
  {
   "cell_type": "markdown",
   "metadata": {},
   "source": [
    "## Chain Rule and Computational Graph"
   ]
  },
  {
   "cell_type": "code",
   "execution_count": 2,
   "metadata": {},
   "outputs": [],
   "source": [
    "# z = (x + y)^2\n",
    "\n",
    "x = torch.randn(32, requires_grad=True)\n",
    "y = torch.randn(32)\n",
    "\n",
    "t = (x + y)\n",
    "z = t ** 2"
   ]
  },
  {
   "cell_type": "code",
   "execution_count": 3,
   "metadata": {},
   "outputs": [
    {
     "data": {
      "text/plain": [
       "True"
      ]
     },
     "execution_count": 3,
     "metadata": {},
     "output_type": "execute_result"
    }
   ],
   "source": [
    "x.grad is None"
   ]
  },
  {
   "cell_type": "code",
   "execution_count": 4,
   "metadata": {},
   "outputs": [],
   "source": [
    "z.backward(torch.ones_like(z))"
   ]
  },
  {
   "cell_type": "code",
   "execution_count": 5,
   "metadata": {},
   "outputs": [
    {
     "data": {
      "text/plain": [
       "tensor([ 5.4802, -0.4582, -0.5747,  1.7369,  1.0143, -1.6004,  3.4750, -0.4550,\n",
       "        -5.6589, -2.8882, -0.5215,  1.5525, -2.6667,  2.2073,  2.6927, -4.0240,\n",
       "         1.9924, -1.3897, -0.2752,  0.2054, -1.2876, -1.4065,  1.3723, -0.5634,\n",
       "        -0.3737,  3.7107, -4.1007, -3.1944,  2.8045,  1.8362,  2.0028, -1.2334])"
      ]
     },
     "execution_count": 5,
     "metadata": {},
     "output_type": "execute_result"
    }
   ],
   "source": [
    "x.grad"
   ]
  },
  {
   "cell_type": "code",
   "execution_count": 6,
   "metadata": {},
   "outputs": [
    {
     "data": {
      "text/plain": [
       "tensor([ 5.4802, -0.4582, -0.5747,  1.7369,  1.0143, -1.6004,  3.4750, -0.4550,\n",
       "        -5.6589, -2.8882, -0.5215,  1.5525, -2.6667,  2.2073,  2.6927, -4.0240,\n",
       "         1.9924, -1.3897, -0.2752,  0.2054, -1.2876, -1.4065,  1.3723, -0.5634,\n",
       "        -0.3737,  3.7107, -4.1007, -3.1944,  2.8045,  1.8362,  2.0028, -1.2334],\n",
       "       grad_fn=<MulBackward0>)"
      ]
     },
     "execution_count": 6,
     "metadata": {},
     "output_type": "execute_result"
    }
   ],
   "source": [
    "2 * (x + y) # partial derivative z over x is same as 2(x+y)*1"
   ]
  },
  {
   "cell_type": "code",
   "execution_count": 7,
   "metadata": {},
   "outputs": [
    {
     "data": {
      "text/plain": [
       "(<AddBackward0 at 0x16ab8c19e48>, <PowBackward0 at 0x16ab8c19ef0>)"
      ]
     },
     "execution_count": 7,
     "metadata": {},
     "output_type": "execute_result"
    }
   ],
   "source": [
    "t.grad_fn, z.grad_fn"
   ]
  },
  {
   "cell_type": "markdown",
   "metadata": {},
   "source": [
    "## Pytorch Implementation"
   ]
  },
  {
   "cell_type": "markdown",
   "metadata": {},
   "source": [
    "- Add"
   ]
  },
  {
   "cell_type": "code",
   "execution_count": 8,
   "metadata": {},
   "outputs": [],
   "source": [
    "class Add(torch.autograd.Function):\n",
    "    \n",
    "    @staticmethod\n",
    "    def forward(ctx, i, j):\n",
    "        result = i + j\n",
    "        ctx.save_for_backward(result)\n",
    "        return result\n",
    "    \n",
    "    @staticmethod\n",
    "    def backward(ctx, grad_output):\n",
    "        return grad_output, grad_output"
   ]
  },
  {
   "cell_type": "code",
   "execution_count": 15,
   "metadata": {},
   "outputs": [],
   "source": [
    "x.grad = None\n",
    "y2 = y.data\n",
    "y2.requires_grad = True"
   ]
  },
  {
   "cell_type": "code",
   "execution_count": 16,
   "metadata": {},
   "outputs": [],
   "source": [
    "t = Add.apply(x, y2)"
   ]
  },
  {
   "cell_type": "code",
   "execution_count": 12,
   "metadata": {},
   "outputs": [],
   "source": [
    "t.backward(torch.ones_like(t))"
   ]
  },
  {
   "cell_type": "code",
   "execution_count": 13,
   "metadata": {},
   "outputs": [
    {
     "data": {
      "text/plain": [
       "tensor([1., 1., 1., 1., 1., 1., 1., 1., 1., 1., 1., 1., 1., 1., 1., 1., 1., 1.,\n",
       "        1., 1., 1., 1., 1., 1., 1., 1., 1., 1., 1., 1., 1., 1.])"
      ]
     },
     "execution_count": 13,
     "metadata": {},
     "output_type": "execute_result"
    }
   ],
   "source": [
    "x.grad # 덧셈 노드 역전파는 gradient를 그대로 전파"
   ]
  },
  {
   "cell_type": "code",
   "execution_count": 14,
   "metadata": {},
   "outputs": [
    {
     "data": {
      "text/plain": [
       "tensor([1., 1., 1., 1., 1., 1., 1., 1., 1., 1., 1., 1., 1., 1., 1., 1., 1., 1.,\n",
       "        1., 1., 1., 1., 1., 1., 1., 1., 1., 1., 1., 1., 1., 1.])"
      ]
     },
     "execution_count": 14,
     "metadata": {},
     "output_type": "execute_result"
    }
   ],
   "source": [
    "y2.grad"
   ]
  },
  {
   "cell_type": "markdown",
   "metadata": {},
   "source": [
    "- Multiplication"
   ]
  },
  {
   "cell_type": "code",
   "execution_count": 59,
   "metadata": {},
   "outputs": [],
   "source": [
    "class Mul(torch.autograd.Function):\n",
    "    \n",
    "    @staticmethod\n",
    "    def forward(ctx, i, j):\n",
    "        result = i * j\n",
    "        ctx.save_for_backward(i, j)\n",
    "        return result\n",
    "    \n",
    "    @staticmethod\n",
    "    def backward(ctx, grad_output):\n",
    "        x, y = ctx.saved_tensors\n",
    "        return y, x"
   ]
  },
  {
   "cell_type": "code",
   "execution_count": 60,
   "metadata": {},
   "outputs": [],
   "source": [
    "x.grad = None\n",
    "y2.grad = None"
   ]
  },
  {
   "cell_type": "code",
   "execution_count": 61,
   "metadata": {},
   "outputs": [],
   "source": [
    "t = Mul.apply(x, y2)"
   ]
  },
  {
   "cell_type": "code",
   "execution_count": 62,
   "metadata": {},
   "outputs": [],
   "source": [
    "t.backward(torch.ones_like(t))"
   ]
  },
  {
   "cell_type": "code",
   "execution_count": 63,
   "metadata": {},
   "outputs": [
    {
     "data": {
      "text/plain": [
       "tensor([ 1.2498,  1.2571,  1.2734, -0.0856, -0.8524, -2.4533, -0.0090,  0.1798,\n",
       "        -1.8876, -1.1345,  0.2635, -1.0527, -1.1891,  1.1100, -0.5364, -1.9171,\n",
       "        -0.1662, -0.7579, -0.2441,  0.0794,  0.0216, -1.3117, -0.8964,  0.9103,\n",
       "        -0.6450,  0.7024, -1.8953, -1.1638, -0.2627,  0.9256,  0.6960, -0.6845])"
      ]
     },
     "execution_count": 63,
     "metadata": {},
     "output_type": "execute_result"
    }
   ],
   "source": [
    "x.grad # is same as y2"
   ]
  },
  {
   "cell_type": "code",
   "execution_count": 64,
   "metadata": {},
   "outputs": [
    {
     "data": {
      "text/plain": [
       "tensor([ 1.4903, -1.4862, -1.5608,  0.9541,  1.3596,  1.6531,  1.7464, -0.4073,\n",
       "        -0.9419, -0.3096, -0.5243,  1.8290, -0.1442, -0.0064,  1.8828, -0.0949,\n",
       "         1.1624,  0.0631,  0.1065,  0.0233, -0.6654,  0.6085,  1.5825, -1.1920,\n",
       "         0.4582,  1.1529, -0.1550, -0.4334,  1.6650, -0.0075,  0.3054,  0.0678])"
      ]
     },
     "execution_count": 64,
     "metadata": {},
     "output_type": "execute_result"
    }
   ],
   "source": [
    "y2.grad # is same as x"
   ]
  },
  {
   "cell_type": "markdown",
   "metadata": {},
   "source": [
    "## 사과 쇼핑의 예"
   ]
  },
  {
   "cell_type": "code",
   "execution_count": 91,
   "metadata": {},
   "outputs": [],
   "source": [
    "apple = torch.tensor([100.,], requires_grad=True)\n",
    "num = torch.tensor([2.,], requires_grad=True)\n",
    "ctax = torch.tensor([1.1], requires_grad=True)"
   ]
  },
  {
   "cell_type": "code",
   "execution_count": 92,
   "metadata": {},
   "outputs": [],
   "source": [
    "price = apple * num\n",
    "price.retain_grad()\n",
    "result = price * ctax\n",
    "result.retain_grad()"
   ]
  },
  {
   "cell_type": "code",
   "execution_count": 93,
   "metadata": {},
   "outputs": [],
   "source": [
    "result.backward(torch.ones(1,))"
   ]
  },
  {
   "cell_type": "code",
   "execution_count": 96,
   "metadata": {},
   "outputs": [
    {
     "data": {
      "text/plain": [
       "(tensor([2.2000]),\n",
       " tensor([110.]),\n",
       " tensor([200.]),\n",
       " tensor([1.1000]),\n",
       " tensor([1.]))"
      ]
     },
     "execution_count": 96,
     "metadata": {},
     "output_type": "execute_result"
    }
   ],
   "source": [
    "apple.grad, num.grad, ctax.grad, price.grad, result.grad"
   ]
  },
  {
   "cell_type": "markdown",
   "metadata": {},
   "source": [
    "## 사과와 귤 쇼핑의 역전파"
   ]
  },
  {
   "cell_type": "code",
   "execution_count": 98,
   "metadata": {},
   "outputs": [],
   "source": [
    "apple = torch.tensor([100.,], requires_grad=True)\n",
    "tangerine = torch.tensor([150.,], requires_grad=True)\n",
    "num_apple = torch.tensor([2.,], requires_grad=True)\n",
    "num_tangerine = torch.tensor([3.,], requires_grad=True)\n",
    "ctax = torch.tensor([1.1], requires_grad=True)"
   ]
  },
  {
   "cell_type": "code",
   "execution_count": 100,
   "metadata": {},
   "outputs": [],
   "source": [
    "apple_price = apple * num_apple\n",
    "apple_price.retain_grad()\n",
    "\n",
    "tangerine_price = tangerine * num_tangerine\n",
    "tangerine_price.retain_grad()\n",
    "\n",
    "price = apple_price + tangerine_price\n",
    "price.retain_grad()\n",
    "\n",
    "result = price * ctax\n",
    "result.retain_grad()"
   ]
  },
  {
   "cell_type": "code",
   "execution_count": 101,
   "metadata": {},
   "outputs": [],
   "source": [
    "result.backward(torch.ones(1))"
   ]
  },
  {
   "cell_type": "code",
   "execution_count": 115,
   "metadata": {},
   "outputs": [
    {
     "name": "stdout",
     "output_type": "stream",
     "text": [
      "          apple.grad = 2.20\n",
      "      tangerine.grad = 3.30\n",
      "      num_apple.grad = 110.00\n",
      "  num_tangerine.grad = 165.00\n",
      "           ctax.grad = 650.00\n",
      "    apple_price.grad = 1.10\n",
      "tangerine_price.grad = 1.10\n",
      "          price.grad = 1.10\n",
      "         result.grad = 1.00\n"
     ]
    }
   ],
   "source": [
    "items = ['apple', 'tangerine', 'num_apple', 'num_tangerine', 'ctax']\n",
    "items += ['apple_price', 'tangerine_price', 'price', 'result']\n",
    "\n",
    "for item in items:\n",
    "    print(f\"{item:>15s}.grad = {eval(item).grad.item():.2f}\")"
   ]
  },
  {
   "cell_type": "code",
   "execution_count": null,
   "metadata": {},
   "outputs": [],
   "source": []
  }
 ],
 "metadata": {
  "kernelspec": {
   "display_name": "basic",
   "language": "python",
   "name": "basic"
  },
  "language_info": {
   "codemirror_mode": {
    "name": "ipython",
    "version": 3
   },
   "file_extension": ".py",
   "mimetype": "text/x-python",
   "name": "python",
   "nbconvert_exporter": "python",
   "pygments_lexer": "ipython3",
   "version": "3.6.9"
  }
 },
 "nbformat": 4,
 "nbformat_minor": 4
}
