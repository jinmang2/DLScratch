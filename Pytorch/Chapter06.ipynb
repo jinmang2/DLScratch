{
 "cells": [
  {
   "cell_type": "markdown",
   "metadata": {},
   "source": [
    "# Libraries"
   ]
  },
  {
   "cell_type": "code",
   "execution_count": 1,
   "metadata": {},
   "outputs": [],
   "source": [
    "import torch\n",
    "import torch.nn as nn"
   ]
  },
  {
   "cell_type": "markdown",
   "metadata": {},
   "source": [
    "# Contents\n",
    "- Optimizer\n",
    "- Initialization\n",
    "- Normalization\n",
    "- Regularization\n",
    "- Hyperparameter Optimization"
   ]
  },
  {
   "cell_type": "markdown",
   "metadata": {},
   "source": [
    "## Optimizer"
   ]
  },
  {
   "cell_type": "code",
   "execution_count": 6,
   "metadata": {},
   "outputs": [],
   "source": [
    "\"\"\"\n",
    ":mod:`torch.optim` is a package implementing various optimization algorithms.\n",
    "Most commonly used methods are already supported, and the interface is general\n",
    "enough, so that more sophisticated ones can be also easily integrated in the\n",
    "future.\n",
    "\"\"\"\n",
    "import math # For Adam, AdamW, ASGD, lr_scheduler, SparseAdam\n",
    "from functools import reduce # For LBFGS\n",
    "# For lr_scheduler\n",
    "import types\n",
    "from torch._six import inf\n",
    "from functools import wraps\n",
    "import warnings\n",
    "import weakref\n",
    "from collections import Counter\n",
    "from bisect import bisect_right\n",
    "# For Optimizer\n",
    "from collections import defaultdict\n",
    "from torch._six import container_abcs\n",
    "from copy import deepcopy\n",
    "from itertools import chain\n",
    "\n",
    "from torch.optim import (\n",
    "    Adadelta, Adagrad, Adam, AdamW, SparseAdam,\n",
    "    Adamax, ASGD, SGD, Rprop, RMSprop,\n",
    "    Optimizer,\n",
    "    LBFGS, lr_scheduler\n",
    ")"
   ]
  },
  {
   "cell_type": "markdown",
   "metadata": {},
   "source": [
    "```python\n",
    "class Optimizer(object):\n",
    "    # https://hashcode.co.kr/questions/487/object-왜-상속받는-건가요\n",
    "    \n",
    "```"
   ]
  },
  {
   "cell_type": "code",
   "execution_count": null,
   "metadata": {},
   "outputs": [],
   "source": []
  }
 ],
 "metadata": {
  "kernelspec": {
   "display_name": "basic",
   "language": "python",
   "name": "basic"
  },
  "language_info": {
   "codemirror_mode": {
    "name": "ipython",
    "version": 3
   },
   "file_extension": ".py",
   "mimetype": "text/x-python",
   "name": "python",
   "nbconvert_exporter": "python",
   "pygments_lexer": "ipython3",
   "version": "3.6.9"
  }
 },
 "nbformat": 4,
 "nbformat_minor": 4
}
