{
 "cells": [
  {
   "cell_type": "code",
   "execution_count": 1,
   "metadata": {},
   "outputs": [],
   "source": [
    "import tensorflow as tf\n",
    "from tensorflow import keras\n",
    "from tensorflow.keras import layers"
   ]
  },
  {
   "cell_type": "code",
   "execution_count": 2,
   "metadata": {},
   "outputs": [],
   "source": [
    "from tensorflow.keras import models\n",
    "from tensorflow.keras import layers\n",
    "\n",
    "import numpy as np"
   ]
  },
  {
   "cell_type": "code",
   "execution_count": 3,
   "metadata": {},
   "outputs": [],
   "source": [
    "# 케라스에서 mnist dataset 제공\n",
    "(x_train, t_train), (x_test, t_test) = tf.keras.datasets.mnist.load_data()"
   ]
  },
  {
   "cell_type": "code",
   "execution_count": 4,
   "metadata": {},
   "outputs": [],
   "source": [
    "# Define Sequential model with 3 layers\n",
    "model = keras.Sequential(\n",
    "    [\n",
    "        layers.Flatten(input_shape = (28, 28)),\n",
    "        layers.Dense(100, activation=\"relu\", name=\"layer1\"),\n",
    "        layers.Dense(50),\n",
    "        layers.Dense(50,  activation=\"relu\", name=\"layer2\"),\n",
    "        layers.Dense(25),\n",
    "        layers.Dense(10,  activation=\"softmax\", name=\"layer3\"),\n",
    "    ]\n",
    ")\n",
    "# Call model on a test input"
   ]
  },
  {
   "cell_type": "code",
   "execution_count": 5,
   "metadata": {},
   "outputs": [],
   "source": [
    "model.compile(\n",
    "    optimizer = 'adam',\n",
    "    loss = 'sparse_categorical_crossentropy',\n",
    "    metrics = ['accuracy'])"
   ]
  },
  {
   "cell_type": "code",
   "execution_count": 6,
   "metadata": {},
   "outputs": [
    {
     "name": "stdout",
     "output_type": "stream",
     "text": [
      "Epoch 1/5\n",
      "1500/1500 - 1s - loss: 1.3768 - accuracy: 0.8417 - val_loss: 0.3392 - val_accuracy: 0.9074\n",
      "Epoch 2/5\n",
      "1500/1500 - 1s - loss: 0.2766 - accuracy: 0.9220 - val_loss: 0.2560 - val_accuracy: 0.9260\n",
      "Epoch 3/5\n",
      "1500/1500 - 1s - loss: 0.2216 - accuracy: 0.9381 - val_loss: 0.2286 - val_accuracy: 0.9341\n",
      "Epoch 4/5\n",
      "1500/1500 - 1s - loss: 0.2081 - accuracy: 0.9439 - val_loss: 0.2070 - val_accuracy: 0.9449\n",
      "Epoch 5/5\n",
      "1500/1500 - 1s - loss: 0.1904 - accuracy: 0.9499 - val_loss: 0.1849 - val_accuracy: 0.9563\n"
     ]
    },
    {
     "data": {
      "text/plain": [
       "<tensorflow.python.keras.callbacks.History at 0x14171e970>"
      ]
     },
     "execution_count": 6,
     "metadata": {},
     "output_type": "execute_result"
    }
   ],
   "source": [
    "model.fit(x_train, t_train, epochs = 5, verbose = 2, validation_split = 0.2)"
   ]
  },
  {
   "cell_type": "code",
   "execution_count": 7,
   "metadata": {},
   "outputs": [
    {
     "name": "stdout",
     "output_type": "stream",
     "text": [
      "313/313 [==============================] - 0s 763us/step - loss: 0.1818 - accuracy: 0.9574\n"
     ]
    },
    {
     "data": {
      "text/plain": [
       "[0.18183067440986633, 0.9574000239372253]"
      ]
     },
     "execution_count": 7,
     "metadata": {},
     "output_type": "execute_result"
    }
   ],
   "source": [
    "model.evaluate(x_test,t_test)"
   ]
  },
  {
   "cell_type": "code",
   "execution_count": 8,
   "metadata": {},
   "outputs": [
    {
     "data": {
      "text/plain": [
       "array([[5.4158100e-09, 2.0313503e-06, 2.6363519e-08, ..., 9.9999785e-01,\n",
       "        1.4602230e-08, 3.3537933e-08],\n",
       "       [2.0182624e-09, 3.3291491e-07, 9.9999964e-01, ..., 3.7244272e-10,\n",
       "        1.1508863e-09, 4.9124854e-10],\n",
       "       [1.3999437e-09, 9.9994981e-01, 1.3495382e-05, ..., 1.5772150e-05,\n",
       "        6.0516804e-08, 3.3077597e-06],\n",
       "       ...,\n",
       "       [1.8524043e-10, 1.0636825e-08, 2.0075632e-09, ..., 6.5528166e-10,\n",
       "        3.4699854e-11, 3.6442580e-06],\n",
       "       [1.3039073e-08, 8.2114393e-18, 1.3125898e-17, ..., 3.1094854e-10,\n",
       "        1.8206546e-10, 1.0650119e-12],\n",
       "       [2.5187609e-15, 3.5710376e-18, 1.0157721e-09, ..., 5.9231679e-19,\n",
       "        3.7397526e-11, 5.8502944e-28]], dtype=float32)"
      ]
     },
     "execution_count": 8,
     "metadata": {},
     "output_type": "execute_result"
    }
   ],
   "source": [
    "model.predict(x_test, batch_size =128)"
   ]
  },
  {
   "cell_type": "code",
   "execution_count": 9,
   "metadata": {},
   "outputs": [],
   "source": [
    "# Define Sequential model with 3 layers\n",
    "model2 = keras.Sequential(\n",
    "    [\n",
    "        layers.Flatten(input_shape = (28, 28)),\n",
    "        layers.Dense(100, activation=\"relu\", name=\"layer1\"),\n",
    "        layers.Dense(50,  activation=\"relu\", name=\"layer2\"),\n",
    "        layers.Dense(10,  activation=\"softmax\", name=\"layer3\"),\n",
    "    ]\n",
    ")\n",
    "# Call model on a test input"
   ]
  },
  {
   "cell_type": "code",
   "execution_count": 10,
   "metadata": {},
   "outputs": [],
   "source": [
    "model2.compile(\n",
    "    optimizer = 'adam',\n",
    "    loss = 'sparse_categorical_crossentropy',\n",
    "    metrics = ['accuracy'])"
   ]
  },
  {
   "cell_type": "code",
   "execution_count": 11,
   "metadata": {},
   "outputs": [
    {
     "name": "stdout",
     "output_type": "stream",
     "text": [
      "Epoch 1/5\n",
      "1500/1500 - 1s - loss: 1.6842 - accuracy: 0.7985 - val_loss: 0.5099 - val_accuracy: 0.8791\n",
      "Epoch 2/5\n",
      "1500/1500 - 1s - loss: 0.4124 - accuracy: 0.8940 - val_loss: 0.4080 - val_accuracy: 0.9226\n",
      "Epoch 3/5\n",
      "1500/1500 - 1s - loss: 0.2926 - accuracy: 0.9236 - val_loss: 0.2589 - val_accuracy: 0.9339\n",
      "Epoch 4/5\n",
      "1500/1500 - 1s - loss: 0.2271 - accuracy: 0.9401 - val_loss: 0.2315 - val_accuracy: 0.9456\n",
      "Epoch 5/5\n",
      "1500/1500 - 1s - loss: 0.1823 - accuracy: 0.9514 - val_loss: 0.1853 - val_accuracy: 0.9511\n"
     ]
    },
    {
     "data": {
      "text/plain": [
       "<tensorflow.python.keras.callbacks.History at 0x141ff4130>"
      ]
     },
     "execution_count": 11,
     "metadata": {},
     "output_type": "execute_result"
    }
   ],
   "source": [
    "model2.fit(x_train, t_train, epochs = 5, verbose = 2, validation_split = 0.2)"
   ]
  },
  {
   "cell_type": "code",
   "execution_count": 12,
   "metadata": {},
   "outputs": [
    {
     "name": "stdout",
     "output_type": "stream",
     "text": [
      "313/313 [==============================] - 0s 730us/step - loss: 0.1766 - accuracy: 0.9519\n"
     ]
    },
    {
     "data": {
      "text/plain": [
       "[0.176595076918602, 0.9519000053405762]"
      ]
     },
     "execution_count": 12,
     "metadata": {},
     "output_type": "execute_result"
    }
   ],
   "source": [
    "model2.evaluate(x_test,t_test)"
   ]
  },
  {
   "cell_type": "code",
   "execution_count": 13,
   "metadata": {},
   "outputs": [
    {
     "data": {
      "text/plain": [
       "array([[7.1819382e-09, 1.1802519e-07, 5.0928833e-07, ..., 9.9954331e-01,\n",
       "        7.3208617e-10, 1.0961900e-06],\n",
       "       [1.5314980e-06, 6.9126808e-03, 9.5339340e-01, ..., 1.8939907e-02,\n",
       "        1.3642214e-04, 1.9653407e-06],\n",
       "       [8.7462720e-18, 9.9999285e-01, 3.3820541e-08, ..., 3.2061193e-06,\n",
       "        2.7220918e-07, 3.9241175e-09],\n",
       "       ...,\n",
       "       [6.0932991e-33, 1.2745333e-03, 1.5549417e-15, ..., 1.2028364e-07,\n",
       "        1.8484686e-09, 1.4008766e-08],\n",
       "       [6.5668654e-33, 0.0000000e+00, 0.0000000e+00, ..., 0.0000000e+00,\n",
       "        8.2252316e-11, 0.0000000e+00],\n",
       "       [1.5039960e-10, 2.7828495e-23, 8.8696759e-26, ..., 0.0000000e+00,\n",
       "        1.3545927e-12, 0.0000000e+00]], dtype=float32)"
      ]
     },
     "execution_count": 13,
     "metadata": {},
     "output_type": "execute_result"
    }
   ],
   "source": [
    "model2.predict(x_test, batch_size =128)"
   ]
  },
  {
   "cell_type": "code",
   "execution_count": null,
   "metadata": {},
   "outputs": [],
   "source": []
  }
 ],
 "metadata": {
  "kernelspec": {
   "display_name": "Python 3",
   "language": "python",
   "name": "python3"
  },
  "language_info": {
   "codemirror_mode": {
    "name": "ipython",
    "version": 3
   },
   "file_extension": ".py",
   "mimetype": "text/x-python",
   "name": "python",
   "nbconvert_exporter": "python",
   "pygments_lexer": "ipython3",
   "version": "3.8.3"
  }
 },
 "nbformat": 4,
 "nbformat_minor": 4
}
